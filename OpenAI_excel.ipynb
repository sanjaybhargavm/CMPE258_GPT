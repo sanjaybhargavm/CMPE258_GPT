{
  "nbformat": 4,
  "nbformat_minor": 0,
  "metadata": {
    "colab": {
      "provenance": []
    },
    "kernelspec": {
      "name": "python3",
      "display_name": "Python 3"
    },
    "language_info": {
      "name": "python"
    },
    "gpuClass": "standard"
  },
  "cells": [
    {
      "cell_type": "code",
      "execution_count": 4,
      "metadata": {
        "id": "s1j-zphI7WD-"
      },
      "outputs": [],
      "source": [
        "!pip install -q langchain openai chromadb tiktoken"
      ]
    },
    {
      "cell_type": "code",
      "source": [
        "from langchain.document_loaders import CSVLoader\n",
        "from langchain.indexes import VectorstoreIndexCreator\n",
        "from langchain.chains import RetrievalQA\n",
        "from langchain.llms import OpenAI\n",
        "import pandas as pd\n",
        "import os"
      ],
      "metadata": {
        "id": "yfCkUhGy8ZAF"
      },
      "execution_count": 2,
      "outputs": []
    },
    {
      "cell_type": "code",
      "source": [
        "os.environ['OPENAI_API_KEY'] = 'sk-LgjVZMMJefX7ffvfvefucws9CXT3BlbkFJIm22bmTdrIwvEMVuYoUL'"
      ],
      "metadata": {
        "id": "vca0xv3n8dXg"
      },
      "execution_count": 3,
      "outputs": []
    },
    {
      "cell_type": "code",
      "source": [
        "#loader = CSVLoader(file_path='/content/sales.csv')  \n",
        "\n",
        "loader = CSVLoader(file_path='/content/sales.csv',csv_args = {\n",
        "                \"delimiter\": ',',\n",
        "#               \"quotechar\": csv.Dialect.quotechar,\n",
        "            })"
      ],
      "metadata": {
        "id": "7hhdHsBz8l3x"
      },
      "execution_count": 9,
      "outputs": []
    },
    {
      "cell_type": "code",
      "source": [
        "loader"
      ],
      "metadata": {
        "colab": {
          "base_uri": "https://localhost:8080/"
        },
        "id": "shvSZqsiBKOQ",
        "outputId": "3ec20438-3f3a-47a3-e06f-66c9208725dc"
      },
      "execution_count": 10,
      "outputs": [
        {
          "output_type": "execute_result",
          "data": {
            "text/plain": [
              "<langchain.document_loaders.csv_loader.CSVLoader at 0x7f10e7f16c80>"
            ]
          },
          "metadata": {},
          "execution_count": 10
        }
      ]
    },
    {
      "cell_type": "code",
      "source": [
        "index_creator = VectorstoreIndexCreator()\n",
        "docsearch = index_creator.from_loaders([loader])"
      ],
      "metadata": {
        "colab": {
          "base_uri": "https://localhost:8080/"
        },
        "id": "B7l8pGO28t5b",
        "outputId": "dc26f07c-99cd-4987-d75f-4de7e45fb557"
      },
      "execution_count": 11,
      "outputs": [
        {
          "output_type": "stream",
          "name": "stderr",
          "text": [
            "WARNING:chromadb:Using embedded DuckDB without persistence: data will be transient\n"
          ]
        }
      ]
    },
    {
      "cell_type": "code",
      "source": [
        "\n",
        "chain = RetrievalQA.from_chain_type(llm=OpenAI(), chain_type='stuff', retriever=docsearch.vectorstore.as_retriever(), input_key='question')"
      ],
      "metadata": {
        "id": "pC7a91qT8pGm"
      },
      "execution_count": 12,
      "outputs": []
    },
    {
      "cell_type": "code",
      "source": [
        "\n",
        "query = \"What is the most prefered payment method\"\n",
        "response = chain({'question': query})\n",
        "print(response['result'])"
      ],
      "metadata": {
        "id": "R73vvuEl8q7H",
        "colab": {
          "base_uri": "https://localhost:8080/"
        },
        "outputId": "d7177fae-a9f1-4248-fba8-01cbc6cd6c82"
      },
      "execution_count": 14,
      "outputs": [
        {
          "output_type": "stream",
          "name": "stdout",
          "text": [
            " Credit Card\n"
          ]
        }
      ]
    },
    {
      "cell_type": "code",
      "source": [
        "\n",
        "query = \"Which is the highest priced item\"\n",
        "response = chain({'question': query})\n",
        "print(response['result'])"
      ],
      "metadata": {
        "id": "uLmWwSwV8x7V",
        "colab": {
          "base_uri": "https://localhost:8080/"
        },
        "outputId": "fa8f65e6-b320-4b00-969a-afbda3375813"
      },
      "execution_count": 15,
      "outputs": [
        {
          "output_type": "stream",
          "name": "stdout",
          "text": [
            " The highest priced item is Shoes with a price of 1800.51\n"
          ]
        }
      ]
    },
    {
      "cell_type": "code",
      "source": [
        "\n",
        "query = \"What is the ratio of male to female shoppers\"\n",
        "response = chain({'question': query})\n",
        "print(response['result'])"
      ],
      "metadata": {
        "colab": {
          "base_uri": "https://localhost:8080/"
        },
        "id": "qZ6xY37JD9WP",
        "outputId": "e79f8bc1-d986-42d7-dc5a-d4e3cd9a9442"
      },
      "execution_count": 16,
      "outputs": [
        {
          "output_type": "stream",
          "name": "stdout",
          "text": [
            " I don't know.\n"
          ]
        }
      ]
    },
    {
      "cell_type": "code",
      "source": [
        "\n",
        "query = \"What is the count of female shoppers\"\n",
        "response = chain({'question': query})\n",
        "print(response['result'])"
      ],
      "metadata": {
        "colab": {
          "base_uri": "https://localhost:8080/"
        },
        "id": "si-OlhsKDuOH",
        "outputId": "ff294a77-b7b0-4351-e70a-a62575573f1c"
      },
      "execution_count": 19,
      "outputs": [
        {
          "output_type": "stream",
          "name": "stdout",
          "text": [
            " 4\n"
          ]
        }
      ]
    },
    {
      "cell_type": "code",
      "source": [
        "\n",
        "query = \"which is the count of Male shoppers\"\n",
        "response = chain({'question': query})\n",
        "print(response['result'])"
      ],
      "metadata": {
        "colab": {
          "base_uri": "https://localhost:8080/"
        },
        "id": "N-_WOgz1EJqD",
        "outputId": "f12cc59d-5bb5-4267-d848-2e19ad25bf9e"
      },
      "execution_count": 20,
      "outputs": [
        {
          "output_type": "stream",
          "name": "stdout",
          "text": [
            " 4\n"
          ]
        }
      ]
    },
    {
      "cell_type": "code",
      "source": [
        "\n",
        "query = \"which is the most purchased item\"\n",
        "response = chain({'question': query})\n",
        "print(response['result'])"
      ],
      "metadata": {
        "id": "7wUevYekEQRM",
        "colab": {
          "base_uri": "https://localhost:8080/"
        },
        "outputId": "48236915-c0ce-4cc4-e9cc-3e2e6a287939"
      },
      "execution_count": 21,
      "outputs": [
        {
          "output_type": "stream",
          "name": "stdout",
          "text": [
            " Shoes\n"
          ]
        }
      ]
    }
  ]
}